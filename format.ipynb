{
 "cells": [
  {
   "cell_type": "code",
   "execution_count": 6,
   "metadata": {},
   "outputs": [
    {
     "name": "stdout",
     "output_type": "stream",
     "text": [
      "No.      Company      Cap      Qty      Bought Price      Market Price     \n",
      "1        Microsoft    Mega     100      188               207              \n",
      "2        Amazon       Mega     5        1700              3003             \n",
      "3        Paypal       Large    80       100               188              \n",
      "4        Apple        Large    100      60                110              \n",
      "5        Fastly       Mid      30       40                76               \n",
      "6        Square       Mid      30       40                178              \n"
     ]
    }
   ],
   "source": [
    "number = ['No.', 1, 2, 3, 4, 5, 6]\n",
    "company = ['Company', 'Microsoft', 'Amazon',\n",
    "           'Paypal', 'Apple', 'Fastly', 'Square']\n",
    "cap = ['Cap', 'Mega', 'Mega', 'Large', 'Large', 'Mid', 'Mid']\n",
    "qty = ['Qty', '100', '5', '80', '100', '30', '30']\n",
    "bought_price = ['Bought Price', '188', '1700', '100', '60', '40', '40']\n",
    "market_price = ['Market Price', '207', '3003', '188', '110', '76', '178']\n",
    "\n",
    "# space = 15\n",
    "spaces = list(map(lambda x: len(str(x)),next(zip(number, company, cap, qty,\n",
    "                       bought_price, market_price))))\n",
    "spaces = [i+5 for i in spaces]\n",
    "for a, b, c, d, e, f in zip(number, company, cap, qty, bought_price, market_price):\n",
    "    print(\n",
    "        f\"{a:<{spaces[0]}} {b:<{spaces[1]}} {c:<{spaces[2]}} {d:<{spaces[3]}} {e:<{spaces[4]}} {f:<{spaces[5]}}\")\n"
   ]
  },
  {
   "cell_type": "code",
   "execution_count": 1,
   "metadata": {},
   "outputs": [],
   "source": [
    "import numpy as np"
   ]
  },
  {
   "cell_type": "code",
   "execution_count": 3,
   "metadata": {},
   "outputs": [],
   "source": [
    "m = np.nan"
   ]
  },
  {
   "cell_type": "code",
   "execution_count": 5,
   "metadata": {},
   "outputs": [
    {
     "data": {
      "text/plain": [
       "True"
      ]
     },
     "execution_count": 5,
     "metadata": {},
     "output_type": "execute_result"
    }
   ],
   "source": [
    "m is np.nan"
   ]
  },
  {
   "cell_type": "code",
   "execution_count": 6,
   "metadata": {},
   "outputs": [
    {
     "data": {
      "text/plain": [
       "True"
      ]
     },
     "execution_count": 6,
     "metadata": {},
     "output_type": "execute_result"
    }
   ],
   "source": [
    "np.isnan(m)"
   ]
  },
  {
   "cell_type": "code",
   "execution_count": null,
   "metadata": {},
   "outputs": [],
   "source": []
  }
 ],
 "metadata": {
  "interpreter": {
   "hash": "2be5faf79681da6f2a61fdfdd5405d65d042280f7fba6178067603e3a2925119"
  },
  "kernelspec": {
   "display_name": "Python 3.10.0 64-bit",
   "language": "python",
   "name": "python3"
  },
  "language_info": {
   "codemirror_mode": {
    "name": "ipython",
    "version": 3
   },
   "file_extension": ".py",
   "mimetype": "text/x-python",
   "name": "python",
   "nbconvert_exporter": "python",
   "pygments_lexer": "ipython3",
   "version": "3.10.0"
  },
  "orig_nbformat": 4
 },
 "nbformat": 4,
 "nbformat_minor": 2
}
